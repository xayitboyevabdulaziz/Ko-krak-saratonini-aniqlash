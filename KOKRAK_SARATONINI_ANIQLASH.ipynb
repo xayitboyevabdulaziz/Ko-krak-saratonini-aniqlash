{
 "cells": [
  {
   "cell_type": "markdown",
   "metadata": {},
   "source": [
    "HINDISTONDAGI AYOLLARNING TIBBIY TEKSHIRUV MALUMOTLARI ASOSIDA TAYYORLANGAN LOYIHA. YA'NI BU LOYIHA AYOLLARNING KOKRAK SARATONIGA CHALINGANLIGI YOKI CHALINMAGANLIGINI ANIQLAB BERADI.\n",
    "CREATED BY XAI\n"
   ]
  },
  {
   "cell_type": "code",
   "execution_count": 1,
   "metadata": {},
   "outputs": [],
   "source": [
    "#BUNDA KERAKLI KUTUBXONLAR CHAQIRIB OLIINGAN\n",
    "import pandas as pd\n",
    "import numpy as np\n",
    "import matplotlib.pyplot as plt\n",
    "\n"
   ]
  },
  {
   "cell_type": "code",
   "execution_count": 4,
   "metadata": {},
   "outputs": [],
   "source": [
    "# BUNDA KERAKLI MA'LUMOT(DATA) CHAQIRIB OLINGAN\n",
    "df=pd.read_csv(\"https://raw.githubusercontent.com/anvarnarz/praktikum_datasets/main/diabetes.csv\")"
   ]
  },
  {
   "cell_type": "markdown",
   "metadata": {},
   "source": [
    "Ustunlar\n",
    "Pregnancies: homilador bo’lish soni\n",
    "Glucose: glyukozaga test natijasi\n",
    "BloodPressure: diastolik qon bosimi (mm Hg)\n",
    "SkinThickness: Triceps teri burmasining qalinligi (mm)\n",
    "Insulin: 2 soatlik sarum insulini (mu U/ml)\n",
    "BMI: Tana massasi indeksi (vazn kg / (m bo’yi) ^ 2)\n",
    "DiabetesPedigreeFunction: diabetning naslchilik funktsiyasi\n",
    "Age: Yosh (yil)\n",
    "Outcome: Class (0 – diabet yo’q, 1 – diabet)\n",
    "Dataset:"
   ]
  },
  {
   "cell_type": "code",
   "execution_count": 12,
   "metadata": {},
   "outputs": [
    {
     "data": {
      "text/plain": [
       "Outcome                     1.000000\n",
       "Glucose                     0.466581\n",
       "BMI                         0.292695\n",
       "Age                         0.238356\n",
       "Pregnancies                 0.221898\n",
       "DiabetesPedigreeFunction    0.173844\n",
       "Insulin                     0.130548\n",
       "SkinThickness               0.074752\n",
       "BloodPressure               0.065068\n",
       "dtype: float64"
      ]
     },
     "execution_count": 12,
     "metadata": {},
     "output_type": "execute_result"
    }
   ],
   "source": [
    "#BUNDA USTUNLARNING BIR-BIRIGA  QANCHALIK BOG'LIQLIGI TEKSHIRILGAN\n",
    "df.corrwith(df[\"Outcome\"]).sort_values(ascending=False)"
   ]
  },
  {
   "cell_type": "code",
   "execution_count": 18,
   "metadata": {},
   "outputs": [
    {
     "data": {
      "text/html": [
       "<style type=\"text/css\">\n",
       "#T_c370b_row0_col0, #T_c370b_row1_col1, #T_c370b_row2_col2, #T_c370b_row3_col3, #T_c370b_row4_col4, #T_c370b_row5_col5, #T_c370b_row6_col6, #T_c370b_row7_col7, #T_c370b_row8_col8 {\n",
       "  background-color: #b40426;\n",
       "  color: #f1f1f1;\n",
       "}\n",
       "#T_c370b_row0_col1 {\n",
       "  background-color: #516ddb;\n",
       "  color: #f1f1f1;\n",
       "}\n",
       "#T_c370b_row0_col2 {\n",
       "  background-color: #5a78e4;\n",
       "  color: #f1f1f1;\n",
       "}\n",
       "#T_c370b_row0_col3, #T_c370b_row8_col2 {\n",
       "  background-color: #4257c9;\n",
       "  color: #f1f1f1;\n",
       "}\n",
       "#T_c370b_row0_col4 {\n",
       "  background-color: #445acc;\n",
       "  color: #f1f1f1;\n",
       "}\n",
       "#T_c370b_row0_col5, #T_c370b_row0_col6, #T_c370b_row1_col3, #T_c370b_row2_col8, #T_c370b_row3_col1, #T_c370b_row5_col0, #T_c370b_row5_col7, #T_c370b_row6_col2, #T_c370b_row6_col7, #T_c370b_row7_col4, #T_c370b_row7_col6 {\n",
       "  background-color: #3b4cc0;\n",
       "  color: #f1f1f1;\n",
       "}\n",
       "#T_c370b_row0_col7 {\n",
       "  background-color: #e4d9d2;\n",
       "  color: #000000;\n",
       "}\n",
       "#T_c370b_row0_col8 {\n",
       "  background-color: #6f92f3;\n",
       "  color: #f1f1f1;\n",
       "}\n",
       "#T_c370b_row1_col0, #T_c370b_row1_col2, #T_c370b_row6_col8 {\n",
       "  background-color: #5e7de7;\n",
       "  color: #f1f1f1;\n",
       "}\n",
       "#T_c370b_row1_col4 {\n",
       "  background-color: #9fbfff;\n",
       "  color: #000000;\n",
       "}\n",
       "#T_c370b_row1_col5, #T_c370b_row8_col0 {\n",
       "  background-color: #7ea1fa;\n",
       "  color: #f1f1f1;\n",
       "}\n",
       "#T_c370b_row1_col6 {\n",
       "  background-color: #5b7ae5;\n",
       "  color: #f1f1f1;\n",
       "}\n",
       "#T_c370b_row1_col7 {\n",
       "  background-color: #88abfd;\n",
       "  color: #000000;\n",
       "}\n",
       "#T_c370b_row1_col8 {\n",
       "  background-color: #c9d7f0;\n",
       "  color: #000000;\n",
       "}\n",
       "#T_c370b_row2_col0, #T_c370b_row6_col5 {\n",
       "  background-color: #6282ea;\n",
       "  color: #f1f1f1;\n",
       "}\n",
       "#T_c370b_row2_col1 {\n",
       "  background-color: #5977e3;\n",
       "  color: #f1f1f1;\n",
       "}\n",
       "#T_c370b_row2_col3, #T_c370b_row4_col6 {\n",
       "  background-color: #6c8ff1;\n",
       "  color: #f1f1f1;\n",
       "}\n",
       "#T_c370b_row2_col4, #T_c370b_row4_col2 {\n",
       "  background-color: #4961d2;\n",
       "  color: #f1f1f1;\n",
       "}\n",
       "#T_c370b_row2_col5 {\n",
       "  background-color: #93b5fe;\n",
       "  color: #000000;\n",
       "}\n",
       "#T_c370b_row2_col6, #T_c370b_row3_col8, #T_c370b_row4_col7 {\n",
       "  background-color: #3d50c3;\n",
       "  color: #f1f1f1;\n",
       "}\n",
       "#T_c370b_row2_col7, #T_c370b_row8_col7 {\n",
       "  background-color: #80a3fa;\n",
       "  color: #f1f1f1;\n",
       "}\n",
       "#T_c370b_row3_col0 {\n",
       "  background-color: #4e68d8;\n",
       "  color: #f1f1f1;\n",
       "}\n",
       "#T_c370b_row3_col2, #T_c370b_row5_col1 {\n",
       "  background-color: #7295f4;\n",
       "  color: #f1f1f1;\n",
       "}\n",
       "#T_c370b_row3_col4 {\n",
       "  background-color: #c4d5f3;\n",
       "  color: #000000;\n",
       "}\n",
       "#T_c370b_row3_col5 {\n",
       "  background-color: #bad0f8;\n",
       "  color: #000000;\n",
       "}\n",
       "#T_c370b_row3_col6 {\n",
       "  background-color: #6b8df0;\n",
       "  color: #f1f1f1;\n",
       "}\n",
       "#T_c370b_row3_col7, #T_c370b_row6_col1 {\n",
       "  background-color: #5470de;\n",
       "  color: #f1f1f1;\n",
       "}\n",
       "#T_c370b_row4_col0 {\n",
       "  background-color: #4b64d5;\n",
       "  color: #f1f1f1;\n",
       "}\n",
       "#T_c370b_row4_col1 {\n",
       "  background-color: #9bbcff;\n",
       "  color: #000000;\n",
       "}\n",
       "#T_c370b_row4_col3 {\n",
       "  background-color: #c1d4f4;\n",
       "  color: #000000;\n",
       "}\n",
       "#T_c370b_row4_col5 {\n",
       "  background-color: #7597f6;\n",
       "  color: #f1f1f1;\n",
       "}\n",
       "#T_c370b_row4_col8 {\n",
       "  background-color: #4f69d9;\n",
       "  color: #f1f1f1;\n",
       "}\n",
       "#T_c370b_row5_col2 {\n",
       "  background-color: #8db0fe;\n",
       "  color: #000000;\n",
       "}\n",
       "#T_c370b_row5_col3 {\n",
       "  background-color: #b2ccfb;\n",
       "  color: #000000;\n",
       "}\n",
       "#T_c370b_row5_col4 {\n",
       "  background-color: #6e90f2;\n",
       "  color: #f1f1f1;\n",
       "}\n",
       "#T_c370b_row5_col6 {\n",
       "  background-color: #5d7ce6;\n",
       "  color: #f1f1f1;\n",
       "}\n",
       "#T_c370b_row5_col8 {\n",
       "  background-color: #8badfd;\n",
       "  color: #000000;\n",
       "}\n",
       "#T_c370b_row6_col0, #T_c370b_row7_col5, #T_c370b_row8_col3 {\n",
       "  background-color: #3f53c6;\n",
       "  color: #f1f1f1;\n",
       "}\n",
       "#T_c370b_row6_col3 {\n",
       "  background-color: #6485ec;\n",
       "  color: #f1f1f1;\n",
       "}\n",
       "#T_c370b_row6_col4 {\n",
       "  background-color: #6a8bef;\n",
       "  color: #f1f1f1;\n",
       "}\n",
       "#T_c370b_row7_col0 {\n",
       "  background-color: #e6d7cf;\n",
       "  color: #000000;\n",
       "}\n",
       "#T_c370b_row7_col1 {\n",
       "  background-color: #81a4fb;\n",
       "  color: #f1f1f1;\n",
       "}\n",
       "#T_c370b_row7_col2 {\n",
       "  background-color: #7da0f9;\n",
       "  color: #f1f1f1;\n",
       "}\n",
       "#T_c370b_row7_col3 {\n",
       "  background-color: #4c66d6;\n",
       "  color: #f1f1f1;\n",
       "}\n",
       "#T_c370b_row7_col8 {\n",
       "  background-color: #7699f6;\n",
       "  color: #f1f1f1;\n",
       "}\n",
       "#T_c370b_row8_col1 {\n",
       "  background-color: #cbd8ee;\n",
       "  color: #000000;\n",
       "}\n",
       "#T_c370b_row8_col4 {\n",
       "  background-color: #5673e0;\n",
       "  color: #f1f1f1;\n",
       "}\n",
       "#T_c370b_row8_col5 {\n",
       "  background-color: #97b8ff;\n",
       "  color: #000000;\n",
       "}\n",
       "#T_c370b_row8_col6 {\n",
       "  background-color: #688aef;\n",
       "  color: #f1f1f1;\n",
       "}\n",
       "</style>\n",
       "<table id=\"T_c370b_\">\n",
       "  <thead>\n",
       "    <tr>\n",
       "      <th class=\"blank level0\" >&nbsp;</th>\n",
       "      <th class=\"col_heading level0 col0\" >Pregnancies</th>\n",
       "      <th class=\"col_heading level0 col1\" >Glucose</th>\n",
       "      <th class=\"col_heading level0 col2\" >BloodPressure</th>\n",
       "      <th class=\"col_heading level0 col3\" >SkinThickness</th>\n",
       "      <th class=\"col_heading level0 col4\" >Insulin</th>\n",
       "      <th class=\"col_heading level0 col5\" >BMI</th>\n",
       "      <th class=\"col_heading level0 col6\" >DiabetesPedigreeFunction</th>\n",
       "      <th class=\"col_heading level0 col7\" >Age</th>\n",
       "      <th class=\"col_heading level0 col8\" >Outcome</th>\n",
       "    </tr>\n",
       "  </thead>\n",
       "  <tbody>\n",
       "    <tr>\n",
       "      <th id=\"T_c370b_level0_row0\" class=\"row_heading level0 row0\" >Pregnancies</th>\n",
       "      <td id=\"T_c370b_row0_col0\" class=\"data row0 col0\" >1.000000</td>\n",
       "      <td id=\"T_c370b_row0_col1\" class=\"data row0 col1\" >0.129459</td>\n",
       "      <td id=\"T_c370b_row0_col2\" class=\"data row0 col2\" >0.141282</td>\n",
       "      <td id=\"T_c370b_row0_col3\" class=\"data row0 col3\" >0.081672</td>\n",
       "      <td id=\"T_c370b_row0_col4\" class=\"data row0 col4\" >0.073535</td>\n",
       "      <td id=\"T_c370b_row0_col5\" class=\"data row0 col5\" >0.017683</td>\n",
       "      <td id=\"T_c370b_row0_col6\" class=\"data row0 col6\" >0.033523</td>\n",
       "      <td id=\"T_c370b_row0_col7\" class=\"data row0 col7\" >0.544341</td>\n",
       "      <td id=\"T_c370b_row0_col8\" class=\"data row0 col8\" >0.221898</td>\n",
       "    </tr>\n",
       "    <tr>\n",
       "      <th id=\"T_c370b_level0_row1\" class=\"row_heading level0 row1\" >Glucose</th>\n",
       "      <td id=\"T_c370b_row1_col0\" class=\"data row1 col0\" >0.129459</td>\n",
       "      <td id=\"T_c370b_row1_col1\" class=\"data row1 col1\" >1.000000</td>\n",
       "      <td id=\"T_c370b_row1_col2\" class=\"data row1 col2\" >0.152590</td>\n",
       "      <td id=\"T_c370b_row1_col3\" class=\"data row1 col3\" >0.057328</td>\n",
       "      <td id=\"T_c370b_row1_col4\" class=\"data row1 col4\" >0.331357</td>\n",
       "      <td id=\"T_c370b_row1_col5\" class=\"data row1 col5\" >0.221071</td>\n",
       "      <td id=\"T_c370b_row1_col6\" class=\"data row1 col6\" >0.137337</td>\n",
       "      <td id=\"T_c370b_row1_col7\" class=\"data row1 col7\" >0.263514</td>\n",
       "      <td id=\"T_c370b_row1_col8\" class=\"data row1 col8\" >0.466581</td>\n",
       "    </tr>\n",
       "    <tr>\n",
       "      <th id=\"T_c370b_level0_row2\" class=\"row_heading level0 row2\" >BloodPressure</th>\n",
       "      <td id=\"T_c370b_row2_col0\" class=\"data row2 col0\" >0.141282</td>\n",
       "      <td id=\"T_c370b_row2_col1\" class=\"data row2 col1\" >0.152590</td>\n",
       "      <td id=\"T_c370b_row2_col2\" class=\"data row2 col2\" >1.000000</td>\n",
       "      <td id=\"T_c370b_row2_col3\" class=\"data row2 col3\" >0.207371</td>\n",
       "      <td id=\"T_c370b_row2_col4\" class=\"data row2 col4\" >0.088933</td>\n",
       "      <td id=\"T_c370b_row2_col5\" class=\"data row2 col5\" >0.281805</td>\n",
       "      <td id=\"T_c370b_row2_col6\" class=\"data row2 col6\" >0.041265</td>\n",
       "      <td id=\"T_c370b_row2_col7\" class=\"data row2 col7\" >0.239528</td>\n",
       "      <td id=\"T_c370b_row2_col8\" class=\"data row2 col8\" >0.065068</td>\n",
       "    </tr>\n",
       "    <tr>\n",
       "      <th id=\"T_c370b_level0_row3\" class=\"row_heading level0 row3\" >SkinThickness</th>\n",
       "      <td id=\"T_c370b_row3_col0\" class=\"data row3 col0\" >0.081672</td>\n",
       "      <td id=\"T_c370b_row3_col1\" class=\"data row3 col1\" >0.057328</td>\n",
       "      <td id=\"T_c370b_row3_col2\" class=\"data row3 col2\" >0.207371</td>\n",
       "      <td id=\"T_c370b_row3_col3\" class=\"data row3 col3\" >1.000000</td>\n",
       "      <td id=\"T_c370b_row3_col4\" class=\"data row3 col4\" >0.436783</td>\n",
       "      <td id=\"T_c370b_row3_col5\" class=\"data row3 col5\" >0.392573</td>\n",
       "      <td id=\"T_c370b_row3_col6\" class=\"data row3 col6\" >0.183928</td>\n",
       "      <td id=\"T_c370b_row3_col7\" class=\"data row3 col7\" >0.113970</td>\n",
       "      <td id=\"T_c370b_row3_col8\" class=\"data row3 col8\" >0.074752</td>\n",
       "    </tr>\n",
       "    <tr>\n",
       "      <th id=\"T_c370b_level0_row4\" class=\"row_heading level0 row4\" >Insulin</th>\n",
       "      <td id=\"T_c370b_row4_col0\" class=\"data row4 col0\" >0.073535</td>\n",
       "      <td id=\"T_c370b_row4_col1\" class=\"data row4 col1\" >0.331357</td>\n",
       "      <td id=\"T_c370b_row4_col2\" class=\"data row4 col2\" >0.088933</td>\n",
       "      <td id=\"T_c370b_row4_col3\" class=\"data row4 col3\" >0.436783</td>\n",
       "      <td id=\"T_c370b_row4_col4\" class=\"data row4 col4\" >1.000000</td>\n",
       "      <td id=\"T_c370b_row4_col5\" class=\"data row4 col5\" >0.197859</td>\n",
       "      <td id=\"T_c370b_row4_col6\" class=\"data row4 col6\" >0.185071</td>\n",
       "      <td id=\"T_c370b_row4_col7\" class=\"data row4 col7\" >0.042163</td>\n",
       "      <td id=\"T_c370b_row4_col8\" class=\"data row4 col8\" >0.130548</td>\n",
       "    </tr>\n",
       "    <tr>\n",
       "      <th id=\"T_c370b_level0_row5\" class=\"row_heading level0 row5\" >BMI</th>\n",
       "      <td id=\"T_c370b_row5_col0\" class=\"data row5 col0\" >0.017683</td>\n",
       "      <td id=\"T_c370b_row5_col1\" class=\"data row5 col1\" >0.221071</td>\n",
       "      <td id=\"T_c370b_row5_col2\" class=\"data row5 col2\" >0.281805</td>\n",
       "      <td id=\"T_c370b_row5_col3\" class=\"data row5 col3\" >0.392573</td>\n",
       "      <td id=\"T_c370b_row5_col4\" class=\"data row5 col4\" >0.197859</td>\n",
       "      <td id=\"T_c370b_row5_col5\" class=\"data row5 col5\" >1.000000</td>\n",
       "      <td id=\"T_c370b_row5_col6\" class=\"data row5 col6\" >0.140647</td>\n",
       "      <td id=\"T_c370b_row5_col7\" class=\"data row5 col7\" >0.036242</td>\n",
       "      <td id=\"T_c370b_row5_col8\" class=\"data row5 col8\" >0.292695</td>\n",
       "    </tr>\n",
       "    <tr>\n",
       "      <th id=\"T_c370b_level0_row6\" class=\"row_heading level0 row6\" >DiabetesPedigreeFunction</th>\n",
       "      <td id=\"T_c370b_row6_col0\" class=\"data row6 col0\" >0.033523</td>\n",
       "      <td id=\"T_c370b_row6_col1\" class=\"data row6 col1\" >0.137337</td>\n",
       "      <td id=\"T_c370b_row6_col2\" class=\"data row6 col2\" >0.041265</td>\n",
       "      <td id=\"T_c370b_row6_col3\" class=\"data row6 col3\" >0.183928</td>\n",
       "      <td id=\"T_c370b_row6_col4\" class=\"data row6 col4\" >0.185071</td>\n",
       "      <td id=\"T_c370b_row6_col5\" class=\"data row6 col5\" >0.140647</td>\n",
       "      <td id=\"T_c370b_row6_col6\" class=\"data row6 col6\" >1.000000</td>\n",
       "      <td id=\"T_c370b_row6_col7\" class=\"data row6 col7\" >0.033561</td>\n",
       "      <td id=\"T_c370b_row6_col8\" class=\"data row6 col8\" >0.173844</td>\n",
       "    </tr>\n",
       "    <tr>\n",
       "      <th id=\"T_c370b_level0_row7\" class=\"row_heading level0 row7\" >Age</th>\n",
       "      <td id=\"T_c370b_row7_col0\" class=\"data row7 col0\" >0.544341</td>\n",
       "      <td id=\"T_c370b_row7_col1\" class=\"data row7 col1\" >0.263514</td>\n",
       "      <td id=\"T_c370b_row7_col2\" class=\"data row7 col2\" >0.239528</td>\n",
       "      <td id=\"T_c370b_row7_col3\" class=\"data row7 col3\" >0.113970</td>\n",
       "      <td id=\"T_c370b_row7_col4\" class=\"data row7 col4\" >0.042163</td>\n",
       "      <td id=\"T_c370b_row7_col5\" class=\"data row7 col5\" >0.036242</td>\n",
       "      <td id=\"T_c370b_row7_col6\" class=\"data row7 col6\" >0.033561</td>\n",
       "      <td id=\"T_c370b_row7_col7\" class=\"data row7 col7\" >1.000000</td>\n",
       "      <td id=\"T_c370b_row7_col8\" class=\"data row7 col8\" >0.238356</td>\n",
       "    </tr>\n",
       "    <tr>\n",
       "      <th id=\"T_c370b_level0_row8\" class=\"row_heading level0 row8\" >Outcome</th>\n",
       "      <td id=\"T_c370b_row8_col0\" class=\"data row8 col0\" >0.221898</td>\n",
       "      <td id=\"T_c370b_row8_col1\" class=\"data row8 col1\" >0.466581</td>\n",
       "      <td id=\"T_c370b_row8_col2\" class=\"data row8 col2\" >0.065068</td>\n",
       "      <td id=\"T_c370b_row8_col3\" class=\"data row8 col3\" >0.074752</td>\n",
       "      <td id=\"T_c370b_row8_col4\" class=\"data row8 col4\" >0.130548</td>\n",
       "      <td id=\"T_c370b_row8_col5\" class=\"data row8 col5\" >0.292695</td>\n",
       "      <td id=\"T_c370b_row8_col6\" class=\"data row8 col6\" >0.173844</td>\n",
       "      <td id=\"T_c370b_row8_col7\" class=\"data row8 col7\" >0.238356</td>\n",
       "      <td id=\"T_c370b_row8_col8\" class=\"data row8 col8\" >1.000000</td>\n",
       "    </tr>\n",
       "  </tbody>\n",
       "</table>\n"
      ],
      "text/plain": [
       "<pandas.io.formats.style.Styler at 0x1e5f82d3580>"
      ]
     },
     "execution_count": 18,
     "metadata": {},
     "output_type": "execute_result"
    }
   ],
   "source": [
    "#BUNDA  BOGLIQLIKNI TUSHUNISH  OSOROQ BOLADI\n",
    "corr_matrix = df.corr().abs()\n",
    "corr_matrix.style.background_gradient(cmap='coolwarm')"
   ]
  },
  {
   "cell_type": "code",
   "execution_count": 19,
   "metadata": {},
   "outputs": [],
   "source": [
    "#MLGA TAYYORGARLIK\n",
    "X = df.drop('Outcome', axis=1).values\n",
    "y = df['Outcome']"
   ]
  },
  {
   "cell_type": "code",
   "execution_count": 20,
   "metadata": {},
   "outputs": [],
   "source": [
    "from sklearn.preprocessing import StandardScaler\n",
    "\n",
    "scaler = StandardScaler()\n",
    "X = scaler.fit_transform(X)"
   ]
  },
  {
   "cell_type": "code",
   "execution_count": 21,
   "metadata": {},
   "outputs": [
    {
     "data": {
      "text/plain": [
       "KNeighborsClassifier()"
      ]
     },
     "execution_count": 21,
     "metadata": {},
     "output_type": "execute_result"
    }
   ],
   "source": [
    "# TRAIN AND TEST SPLIT(MALUMOTNI TRAIN VA TEST SETGA BOLIB OLISH)\n",
    "from sklearn.model_selection import train_test_split\n",
    "\n",
    "X_train, X_test, y_train, y_test = train_test_split(X,y, test_size=0.2, random_state=12)\n",
    "\n",
    "# k-NN\n",
    "from sklearn.neighbors import KNeighborsClassifier\n",
    "knn = KNeighborsClassifier(n_neighbors=5) # k-ni qiymati\n",
    "#ML JARAYONI\n",
    "knn.fit(X_train, y_train)"
   ]
  },
  {
   "cell_type": "code",
   "execution_count": 22,
   "metadata": {},
   "outputs": [],
   "source": [
    "#QILINGAN BASHORAT\n",
    "y_predict = knn.predict(X_test)"
   ]
  },
  {
   "cell_type": "code",
   "execution_count": 23,
   "metadata": {},
   "outputs": [
    {
     "data": {
      "text/plain": [
       "0.4520547945205479"
      ]
     },
     "execution_count": 23,
     "metadata": {},
     "output_type": "execute_result"
    }
   ],
   "source": [
    "#JACCARD YORDAMIDA MODELNI BAHOLASH\n",
    "from sklearn.metrics import jaccard_score\n",
    "\n",
    "jaccard_score(y_test, y_predict)"
   ]
  },
  {
   "cell_type": "code",
   "execution_count": 24,
   "metadata": {},
   "outputs": [
    {
     "data": {
      "image/png": "[encoded data removed]",
      "text/plain": [
       "<Figure size 432x288 with 2 Axes>"
      ]
     },
     "metadata": {
      "needs_background": "light"
     },
     "output_type": "display_data"
    }
   ],
   "source": [
    "#Confusion_matrix YORDAMIDA BAHOLASH GRAFIK KORINISHIDA\n",
    "from sklearn.metrics import confusion_matrix\n",
    "import seaborn as sns\n",
    "import matplotlib.pyplot as plt\n",
    "\n",
    "sns.heatmap(confusion_matrix(y_test, y_predict), annot=True)\n",
    "plt.show()"
   ]
  },
  {
   "cell_type": "code",
   "execution_count": 25,
   "metadata": {},
   "outputs": [
    {
     "data": {
      "text/plain": [
       "array([[81, 18],\n",
       "       [22, 33]], dtype=int64)"
      ]
     },
     "execution_count": 25,
     "metadata": {},
     "output_type": "execute_result"
    }
   ],
   "source": [
    "#Confusion_matrix YORDAMIDA BAHOLASH SON KORINISHIDA\n",
    "confusion_matrix(y_test, y_predict)"
   ]
  },
  {
   "cell_type": "code",
   "execution_count": 26,
   "metadata": {},
   "outputs": [
    {
     "name": "stdout",
     "output_type": "stream",
     "text": [
      "              precision    recall  f1-score   support\n",
      "\n",
      "           0       0.79      0.82      0.80        99\n",
      "           1       0.65      0.60      0.62        55\n",
      "\n",
      "    accuracy                           0.74       154\n",
      "   macro avg       0.72      0.71      0.71       154\n",
      "weighted avg       0.74      0.74      0.74       154\n",
      "\n"
     ]
    }
   ],
   "source": [
    "#PRECISION RECALL F1-SCORE SUPPORT YORDAMIDA BAHOLASH\n",
    "from sklearn.metrics import classification_report\n",
    "print(classification_report(y_test, y_predict))"
   ]
  },
  {
   "cell_type": "code",
   "execution_count": 27,
   "metadata": {},
   "outputs": [
    {
     "name": "stdout",
     "output_type": "stream",
     "text": [
      "Classification Report: \n",
      "               precision    recall  f1-score   support\n",
      "\n",
      "           0       0.78      0.83      0.80       500\n",
      "           1       0.64      0.55      0.59       268\n",
      "\n",
      "    accuracy                           0.73       768\n",
      "   macro avg       0.71      0.69      0.70       768\n",
      "weighted avg       0.73      0.73      0.73       768\n",
      "\n"
     ]
    }
   ],
   "source": [
    "# Cross validation\n",
    "from sklearn.model_selection import cross_val_predict\n",
    "predict = cross_val_predict(estimator = knn, X = X, y = y, cv = 5)\n",
    "\n",
    "# Modelni baholash\n",
    "from sklearn.metrics import classification_report\n",
    "print(\"Classification Report: \\n\",classification_report(y, predict))"
   ]
  },
  {
   "cell_type": "code",
   "execution_count": null,
   "metadata": {},
   "outputs": [],
   "source": [
    "    "
   ]
  }
 ],
 "metadata": {
  "kernelspec": {
   "display_name": "Python 3.9.7 ('base')",
   "language": "python",
   "name": "python3"
  },
  "language_info": {
   "codemirror_mode": {
    "name": "ipython",
    "version": 3
   },
   "file_extension": ".py",
   "mimetype": "text/x-python",
   "name": "python",
   "nbconvert_exporter": "python",
   "pygments_lexer": "ipython3",
   "version": "3.9.7"
  },
  "orig_nbformat": 4,
  "vscode": {
   "interpreter": {
    "hash": "b302cdd1e032ee910f5c889c3360c28564c92ad4f326fc3102e39fbe47faee66"
   }
  }
 },
 "nbformat": 4,
 "nbformat_minor": 2
}
